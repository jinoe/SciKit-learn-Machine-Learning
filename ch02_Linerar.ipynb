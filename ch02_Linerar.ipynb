{
 "cells": [
  {
   "cell_type": "code",
   "execution_count": 2,
   "metadata": {},
   "outputs": [],
   "source": [
    "%matplotlib inline\n",
    "import matplotlib.pyplot as plt\n",
    "import mglearn\n",
    "import numpy as np\n",
    "import pandas as pd\n",
    "from scipy import sparse\n",
    "\n",
    "from sklearn.model_selection import train_test_split\n"
   ]
  },
  {
   "cell_type": "code",
   "execution_count": null,
   "metadata": {},
   "outputs": [],
   "source": [
    "# keypoint\n",
    "# Linear Regression에서 alpha를 증가시키거나 Classfication에서 C 값을 감소시켜\n",
    "# \"규제\"의 강도를 증가시킨다면 과적합 문제가 발생할 수 있다.(훈련 모델의 성능 향상)\n",
    "# 반대로 \"규제\"의 강도를 줄이면 일반화 성능이 좋아진다.\n",
    "# Ridge가 L2 규제를사용하기 때문에 Lasso 보다 자주 쓰인다."
   ]
  },
  {
   "cell_type": "code",
   "execution_count": 20,
   "metadata": {},
   "outputs": [
    {
     "name": "stdout",
     "output_type": "stream",
     "text": [
      "coef: [0.39390555]\n",
      "intercept: -0.031804343026759746\n",
      "Training Accuracy: 0.67\n",
      "Teat Accuracy: 0.66\n"
     ]
    }
   ],
   "source": [
    "#선형회기 Linear Regression\n",
    "from sklearn.linear_model import LinearRegression\n",
    "\n",
    "#Wave DataSet은 종속변수 1개, 독립변수 1개로 구성\n",
    "X, y = mglearn.datasets.make_wave(n_samples=60)\n",
    "#plt.plot(X,y,'o')\n",
    "\n",
    "X_train, X_test, y_train, y_test = train_test_split(X,y,random_state = 42)\n",
    "\n",
    "#모델생성 선형회기는 매개변수(x)\n",
    "lr = LinearRegression().fit(X_train, y_train)\n",
    "print(\"coef: {}\\nintercept: {}\".format(lr.coef_,lr.intercept_))\n",
    "#coef는 종속변수에 한개씩 대응(NumPy 배열)\n",
    "#intercept는 Float 실수값\n",
    "\n",
    "print(\"Training Accuracy: {:.2f}\".format(lr.score(X_train,y_train)))\n",
    "print(\"Teat Accuracy: {:.2f}\".format(lr.score(X_test,y_test)))\n",
    "\n"
   ]
  },
  {
   "cell_type": "code",
   "execution_count": 7,
   "metadata": {},
   "outputs": [
    {
     "name": "stdout",
     "output_type": "stream",
     "text": [
      "훈련모델 정확도:  0.9520519609032727\n",
      "테스트모델 정확도:  0.6074721959665943\n"
     ]
    }
   ],
   "source": [
    "#Boston DataSet\n",
    "from sklearn.linear_model import LinearRegression\n",
    "\n",
    "X,y = mglearn.datasets.load_extended_boston()\n",
    "\n",
    "X_train, X_test, y_train, y_test = train_test_split(X,y,random_state = 0)\n",
    "\n",
    "lr = LinearRegression().fit(X_train,y_train)\n",
    "\n",
    "print(\"훈련모델 정확도: \",lr.score(X_train,y_train))\n",
    "print(\"테스트모델 정확도: \",lr.score(X_test,y_test))\n",
    "# => 선형회기의 경우 특성이 많은 데이터에 OverFitting이 발생하는것을 확인\n"
   ]
  },
  {
   "cell_type": "code",
   "execution_count": 8,
   "metadata": {},
   "outputs": [
    {
     "name": "stdout",
     "output_type": "stream",
     "text": [
      "Training Accuracy:  0.8857966585170941\n",
      "Test Accuracy:  0.7527683481744749\n"
     ]
    }
   ],
   "source": [
    "#리지 회귀 Ridge Regression\n",
    "#Linear Regression의 OverFitting 문제를 해결하기위해 가중치 \"규제\"의 개념이 추가됨 규제가 높을수록 단순화\n",
    "\n",
    "#기존 boston DataSet 사용\n",
    "from sklearn.linear_model import Ridge\n",
    "\n",
    "ridge = Ridge().fit(X_train, y_train) # Alpha 기본값 1.0\n",
    "\n",
    "print(\"Training Accuracy: \",ridge.score(X_train,y_train))\n",
    "print(\"Test Accuracy: \",ridge.score(X_test,y_test) "
   ]
  },
  {
   "cell_type": "code",
   "execution_count": 20,
   "metadata": {},
   "outputs": [
    {
     "data": {
      "text/plain": [
       "[<matplotlib.lines.Line2D at 0x1f50527e2e0>]"
      ]
     },
     "execution_count": 20,
     "metadata": {},
     "output_type": "execute_result"
    },
    {
     "data": {
      "image/png": "[encoded data removed]",
      "text/plain": [
       "<Figure size 432x288 with 1 Axes>"
      ]
     },
     "metadata": {
      "needs_background": "light"
     },
     "output_type": "display_data"
    }
   ],
   "source": [
    "#Aplha 값에 따라 가중치 결정\n",
    "\n",
    "ridge1 = Ridge(alpha=0.1).fit(X_train,y_train)\n",
    "ridge2 = Ridge(alpha=1.0).fit(X_train,y_train)\n",
    "ridge3 = Ridge(alpha=10.0).fit(X_train,y_train)\n",
    "\n",
    "plt.plot(ridge1.coef_,'^',label=\"0.1\")\n",
    "plt.plot(ridge2.coef_,'s',label=\"1.0\")\n",
    "plt.plot(ridge3.coef_,'v',label=\"10.0\")\n",
    "plt.legend(loc=3)\n",
    "# => alpha 값이 증가함에 따라 가중치(W) 값이 작아지는것을 확인\n",
    "\n",
    "alpha_setting = range(1,11)\n",
    "test_result = []\n",
    "for i in alpha_setting:\n",
    "    ridge = Ridge(alpha=i).fit(X_train,y_train)\n",
    "    test_result.append(ridge.score(X_test,y_test))\n",
    "\n",
    "plt.plot(test_result)\n"
   ]
  },
  {
   "cell_type": "code",
   "execution_count": 31,
   "metadata": {},
   "outputs": [
    {
     "data": {
      "text/plain": [
       "[<matplotlib.lines.Line2D at 0x1f506522100>]"
      ]
     },
     "execution_count": 31,
     "metadata": {},
     "output_type": "execute_result"
    },
    {
     "data": {
      "image/png": "[encoded data removed]",
      "text/plain": [
       "<Figure size 432x288 with 1 Axes>"
      ]
     },
     "metadata": {
      "needs_background": "light"
     },
     "output_type": "display_data"
    }
   ],
   "source": [
    "alpha_setting = np.arange(0.01,1,0.03)\n",
    "test_result = []\n",
    "for i in alpha_setting:\n",
    "    ridge = Ridge(alpha=i).fit(X_train,y_train)\n",
    "    test_result.append(ridge.score(X_test,y_test))\n",
    "\n",
    "plt.plot(alpha_setting,test_result,'o')\n",
    "#=> alpha가 0.2 일때 정확도가 최대임을 확인"
   ]
  },
  {
   "cell_type": "code",
   "execution_count": 34,
   "metadata": {},
   "outputs": [
    {
     "name": "stdout",
     "output_type": "stream",
     "text": [
      "훈련모델 정확도:  0.29323768991114607\n",
      "테스트모델 정확도:  0.20937503255272294\n",
      "사용된 특성의 갯수:  4\n"
     ]
    }
   ],
   "source": [
    "#라소 회기 Lasso Regression\n",
    "#Lasso는 가중치(W)의 값이 0이되어 특성 선택이 되는 특징이 있는 반면 Ridge는 0이 되지는 않음\n",
    "#중요도가 비슷한 특성들의 DataSet인 경우 Ridge 사용\n",
    "\n",
    "from sklearn.linear_model import Lasso\n",
    "\n",
    "lasso = Lasso(alpha=1.0).fit(X_train,y_train)\n",
    "print(\"훈련모델 정확도: \",lasso.score(X_train,y_train))\n",
    "print(\"테스트모델 정확도: \",lasso.score(X_test,y_test))\n",
    "print(\"사용된 특성의 갯수: \",np.sum(lasso.coef_!=0))\n",
    "#과소적합 문제발생 (Alpha=1.0, 사용된특성: 4)"
   ]
  },
  {
   "cell_type": "code",
   "execution_count": 45,
   "metadata": {},
   "outputs": [
    {
     "name": "stderr",
     "output_type": "stream",
     "text": [
      "<ipython-input-45-56f255dc3566>:4: UserWarning: With alpha=0, this algorithm does not converge well. You are advised to use the LinearRegression estimator\n",
      "  lasso2 = Lasso(alpha=i,max_iter=50000).fit(X_train,y_train)\n",
      "C:\\Users\\wlsgh\\anaconda3\\lib\\site-packages\\sklearn\\linear_model\\_coordinate_descent.py:530: UserWarning: Coordinate descent with no regularization may lead to unexpected results and is discouraged.\n",
      "  model = cd_fast.enet_coordinate_descent(\n",
      "C:\\Users\\wlsgh\\anaconda3\\lib\\site-packages\\sklearn\\linear_model\\_coordinate_descent.py:530: ConvergenceWarning: Objective did not converge. You might want to increase the number of iterations. Duality gap: 778.8596361667154, tolerance: 3.233182126649076\n",
      "  model = cd_fast.enet_coordinate_descent(\n"
     ]
    },
    {
     "data": {
      "image/png": "[encoded data removed]",
      "text/plain": [
       "<Figure size 432x288 with 1 Axes>"
      ]
     },
     "metadata": {
      "needs_background": "light"
     },
     "output_type": "display_data"
    }
   ],
   "source": [
    "alpha_setting = np.arange(0,,0.05)\n",
    "test_result = []\n",
    "for i in alpha_setting:\n",
    "    lasso2 = Lasso(alpha=i,max_iter=50000).fit(X_train,y_train)\n",
    "    test_result.append(lasso2.score(X_test,y_test))\n",
    "    #print(\"훈련모델 정확도: \",lasso2.score(X_train,y_train))\n",
    "    #print(\"테스트모델 정확도: \",lasso2.score(X_test,y_test))\n",
    "    #print(\"사용된 특성의 갯수: \",np.sum(lasso2.coef_!=0))\n",
    "\n",
    "plt.plot(alpha_setting,test_result,'o')"
   ]
  },
  {
   "cell_type": "code",
   "execution_count": 106,
   "metadata": {},
   "outputs": [
    {
     "name": "stderr",
     "output_type": "stream",
     "text": [
      "C:\\Users\\wlsgh\\anaconda3\\lib\\site-packages\\sklearn\\linear_model\\_logistic.py:763: ConvergenceWarning: lbfgs failed to converge (status=1):\n",
      "STOP: TOTAL NO. of ITERATIONS REACHED LIMIT.\n",
      "\n",
      "Increase the number of iterations (max_iter) or scale the data as shown in:\n",
      "    https://scikit-learn.org/stable/modules/preprocessing.html\n",
      "Please also refer to the documentation for alternative solver options:\n",
      "    https://scikit-learn.org/stable/modules/linear_model.html#logistic-regression\n",
      "  n_iter_i = _check_optimize_result(\n"
     ]
    },
    {
     "name": "stdout",
     "output_type": "stream",
     "text": [
      "Training Accuracy:  0.9859154929577465\n",
      "Test Accuracy:  0.9790209790209791\n"
     ]
    },
    {
     "name": "stderr",
     "output_type": "stream",
     "text": [
      "C:\\Users\\wlsgh\\anaconda3\\lib\\site-packages\\sklearn\\linear_model\\_logistic.py:763: ConvergenceWarning: lbfgs failed to converge (status=1):\n",
      "STOP: TOTAL NO. of ITERATIONS REACHED LIMIT.\n",
      "\n",
      "Increase the number of iterations (max_iter) or scale the data as shown in:\n",
      "    https://scikit-learn.org/stable/modules/preprocessing.html\n",
      "Please also refer to the documentation for alternative solver options:\n",
      "    https://scikit-learn.org/stable/modules/linear_model.html#logistic-regression\n",
      "  n_iter_i = _check_optimize_result(\n"
     ]
    },
    {
     "data": {
      "text/plain": [
       "<matplotlib.legend.Legend at 0x1f50539ca90>"
      ]
     },
     "execution_count": 106,
     "metadata": {},
     "output_type": "execute_result"
    },
    {
     "data": {
      "image/png": "[encoded data removed]",
      "text/plain": [
       "<Figure size 432x288 with 1 Axes>"
      ]
     },
     "metadata": {
      "needs_background": "light"
     },
     "output_type": "display_data"
    }
   ],
   "source": [
    "#분류용 선형모델\n",
    "#Classification 모델과 달리 Regression 모델은 참과거짓이 없기 때문에 Accuracy는 표준편차제곱의 값의 크기를 기반으로 정확도가 계산됨\n",
    "#SVM(Support Vector Machine) 과 Logistic 분류방법\n",
    "#C 값을 매개변수로 규제값을 조정\n",
    "\n",
    "from sklearn.linear_model import LogisticRegression\n",
    "from sklearn.svm import LinearSVC\n",
    "#유방암 데이터셋 사용\n",
    "from sklearn.datasets import load_breast_cancer\n",
    "\n",
    "cancer = load_breast_cancer()\n",
    "# print(cancer.keys())\n",
    "# print(cancer.data.shape,cancer.target)\n",
    "\n",
    "X_train, X_test, y_train, y_test = train_test_split(cancer.data,cancer.target,random_state=42)\n",
    "log = LogisticRegression(C=1000,max_iter=5000).fit(X_train,y_train)\n",
    "print(\"Training Accuracy: \",log.score(X_train, y_train))\n",
    "print(\"Test Accuracy: \",log.score(X_test, y_test))\n",
    "\n",
    "log1 = LogisticRegression(C=0.1,max_iter=5000).fit(X_train,y_train)\n",
    "log2 = LogisticRegression(C=10,max_iter=5000).fit(X_train,y_train)\n",
    "log3 = LogisticRegression(C=1000,max_iter=5000).fit(X_train,y_train)\n",
    "\n",
    "plt.plot(log1.coef_.T,'^',label=0.1)\n",
    "plt.plot(log2.coef_.T,'s',label=10)\n",
    "plt.plot(log3.coef_.T,'v',label=1000)\n",
    "plt.legend()\n",
    "\n"
   ]
  },
  {
   "cell_type": "code",
   "execution_count": 178,
   "metadata": {},
   "outputs": [
    {
     "name": "stdout",
     "output_type": "stream",
     "text": [
      "coef\n",
      " [[-7.19055875e-01  8.88054559e-01]\n",
      " [ 7.75949230e-01 -1.27387229e-01]\n",
      " [ 5.18511860e-04 -9.43551540e-02]]\n",
      "intercept\n",
      " [-0.60507485 -0.26287032 -0.53816013]\n",
      "Accuracy:  0.84\n"
     ]
    },
    {
     "name": "stderr",
     "output_type": "stream",
     "text": [
      "C:\\Users\\wlsgh\\anaconda3\\lib\\site-packages\\sklearn\\svm\\_base.py:985: ConvergenceWarning: Liblinear failed to converge, increase the number of iterations.\n",
      "  warnings.warn(\"Liblinear failed to converge, increase \"\n"
     ]
    }
   ],
   "source": [
    "#SVM을 이용해 다중 분류기 생성\n",
    "#이중 분류 모델은 1개의 선형모델을 기준으로 정해졌지만 다중 분류 모델은 각각의 비교를 위해 클래스 1개당 1개의 모델이 배정\n",
    "#클래스 0의 데이터는 클래스0 분류모델에서는 양수, 클래스1, 클래스2 분류모델에서는 음수가 나와야함\n",
    "#사실 3개의 모델중 가장 높은 결과값의 클래스로 분류함\n",
    "\n",
    "from sklearn.datasets import make_blobs\n",
    "\n",
    "X, y = make_blobs()\n",
    "\n",
    "X_train, X_test, y_train, y_test = train_test_split(X,y,random_state=42)\n",
    "#2개의 특성을 가지고 3개의 클래스로 분류되는 데이터\n",
    "#print(X.shape,y)\n",
    "\n",
    "svm = LinearSVC().fit(X_train,y_train)\n",
    "print(\"coef\\n\",svm.coef_)\n",
    "print(\"intercept\\n\",svm.intercept_)\n",
    "\n",
    "print(\"Accuracy: \",svm.score(X_test,y_test))\n",
    "\n"
   ]
  }
 ],
 "metadata": {
  "interpreter": {
   "hash": "ab3a6c5ad1e8c4480a05b10b8bb1c2db3bc6360fc5ba5f5bb59c3c79a0ea1185"
  },
  "kernelspec": {
   "display_name": "Python 3.8.8 64-bit ('base': conda)",
   "language": "python",
   "name": "python3"
  },
  "language_info": {
   "codemirror_mode": {
    "name": "ipython",
    "version": 3
   },
   "file_extension": ".py",
   "mimetype": "text/x-python",
   "name": "python",
   "nbconvert_exporter": "python",
   "pygments_lexer": "ipython3",
   "version": "3.8.8"
  },
  "orig_nbformat": 4
 },
 "nbformat": 4,
 "nbformat_minor": 2
}
