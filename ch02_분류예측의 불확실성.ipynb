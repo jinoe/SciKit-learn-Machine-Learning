{
 "cells": [
  {
   "cell_type": "code",
   "execution_count": 40,
   "metadata": {},
   "outputs": [],
   "source": [
    "import numpy as np\n",
    "import matplotlib.pyplot as plt\n",
    "import pandas as pd\n",
    "import mglearn\n",
    "from sklearn.model_selection import train_test_split\n",
    "pd.options.display.float_format = '{:.5f}'.format\n",
    "np.set_printoptions(precision=6, suppress=True)\n"
   ]
  },
  {
   "cell_type": "code",
   "execution_count": null,
   "metadata": {},
   "outputs": [],
   "source": [
    "# 분류에 대한 문제에서 불확실성은 꼭 확인하고 넘어가야할 문제\n",
    "# 의료 전문가 시스템에서 false-nagative(거짓 음성)은 치료를 못하게 만들 수도 있다.\n",
    "# 분류 클래스의 함수는 대부분 Decision_function 함수와 predict_proba 함수 둘 중 한개를 지원한다."
   ]
  },
  {
   "cell_type": "code",
   "execution_count": 31,
   "metadata": {},
   "outputs": [
    {
     "name": "stdout",
     "output_type": "stream",
     "text": [
      "데이터셋 크기: (100, 2)\n",
      "테스트 샘플의 크기: (25, 2)\n",
      "정확도: [ 4.13592603 -1.70169917 -3.95106099 -3.62609552  4.28986642  3.66166081\n",
      " -7.69097179  4.11001686  1.10753937  3.40782222 -6.46255955  4.28986642\n",
      "  3.90156346 -1.20031247  3.66166081 -4.17231157 -1.23010079 -3.91576223\n",
      "  4.03602783  4.11001686  4.11001686  0.65709014  2.69826265 -2.65673274\n",
      " -1.86776596]\n",
      "Predict: [1 0 0 0 1 1 0 1 1 1 0 1 1 0 1 0 0 0 1 1 1 1 1 0 0]\n"
     ]
    },
    {
     "data": {
      "image/png": "[encoded data removed]",
      "text/plain": [
       "<Figure size 432x288 with 1 Axes>"
      ]
     },
     "metadata": {
      "needs_background": "light"
     },
     "output_type": "display_data"
    }
   ],
   "source": [
    "# 1. Decision_function 사용\n",
    "\n",
    "# 임의의 2차원 데이터셋\n",
    "from sklearn.datasets import make_circles\n",
    "X, y = make_circles(noise = 0.25, factor=0.5, random_state = 1)\n",
    "#print(X,y)\n",
    "print(\"데이터셋 크기:\",X.shape)\n",
    "mglearn.discrete_scatter(X[:,0],X[:,1],y)\n",
    "plt.xlabel(\"Feature 0\")\n",
    "plt.ylabel(\"Feature 1\")\n",
    "X_train, X_test, y_train, y_test = train_test_split(X,y,random_state=0)\n",
    "\n",
    "# 그래디언트 부스팅 모델 사용\n",
    "from sklearn.ensemble import GradientBoostingClassifier\n",
    "gbrt = GradientBoostingClassifier(random_state=0).fit(X_train,y_train)\n",
    "\n",
    "print(\"테스트 샘플의 크기:\",X_test.shape)\n",
    "print(\"정확도:\",gbrt.decision_function(X_test))\n",
    "# 이 결과 양수의 값은 해당 결과가 양성(classes_ 속성의 두번째 원소 값)에 속할 확률의 대한 정수값\n",
    "# 음수의 결과는 음성 즉 classes_ 속성의 첫번째 원소의 속할 확률이 더 높음을 의미\n",
    "print(\"Predict:\",gbrt.predict(X_test))"
   ]
  },
  {
   "cell_type": "code",
   "execution_count": 45,
   "metadata": {},
   "outputs": [
    {
     "name": "stdout",
     "output_type": "stream",
     "text": [
      "예측 확률:\n",
      " [[0.015736 0.984264]\n",
      " [0.845757 0.154243]\n",
      " [0.981129 0.018871]\n",
      " [0.97407  0.02593 ]\n",
      " [0.013521 0.986479]\n",
      " [0.025046 0.974954]]\n"
     ]
    }
   ],
   "source": [
    "# 2. Predict_proba 사용\n",
    "print(\"예측 확률:\\n\",gbrt.predict_proba(X_test)[:6])\n",
    "# 클래스 0 과 클래스 1에 속할 확률 출력(합은 항상 1)"
   ]
  },
  {
   "cell_type": "code",
   "execution_count": 53,
   "metadata": {},
   "outputs": [
    {
     "name": "stdout",
     "output_type": "stream",
     "text": [
      "Decision_function\n",
      " [[-8.010441 -6.985275  4.817057]\n",
      " [-8.018199  3.773127 -6.876205]\n",
      " [ 6.249993 -4.299285 -6.915353]\n",
      " [-8.010439 -6.980235  4.73732 ]\n",
      " [ 6.249431 -5.109353 -6.915354]\n",
      " [-8.010439 -6.980029  4.737131]]\n",
      "Predict_proba\n",
      " [[0.000003 0.000007 0.99999 ]\n",
      " [0.000008 0.999969 0.000024]\n",
      " [0.999972 0.000026 0.000002]\n",
      " [0.000003 0.000008 0.999989]\n",
      " [0.999986 0.000012 0.000002]\n",
      " [0.000003 0.000008 0.999989]]\n"
     ]
    }
   ],
   "source": [
    "# 다중 분류\n",
    "# Decision_function, Predict_proba 함수 둘다 다중 분류에 사용할 수 있음\n",
    "\n",
    "#3개의 클래스를 가진 iris 데이터셋 사용\n",
    "from sklearn.datasets import load_iris\n",
    "iris = load_iris()\n",
    "\n",
    "X_train, X_test, y_train, y_test = train_test_split(iris.data, iris.target, random_state=0)\n",
    "\n",
    "gbrt = GradientBoostingClassifier(random_state=0).fit(X_train, y_train)\n",
    "\n",
    "print(\"Decision_function\\n\", gbrt.decision_function(X_test)[:6])\n",
    "print(\"Predict_proba\\n\",gbrt.predict_proba(X_test)[:6])\n"
   ]
  }
 ],
 "metadata": {
  "interpreter": {
   "hash": "ab3a6c5ad1e8c4480a05b10b8bb1c2db3bc6360fc5ba5f5bb59c3c79a0ea1185"
  },
  "kernelspec": {
   "display_name": "Python 3.8.8 64-bit ('base': conda)",
   "language": "python",
   "name": "python3"
  },
  "language_info": {
   "codemirror_mode": {
    "name": "ipython",
    "version": 3
   },
   "file_extension": ".py",
   "mimetype": "text/x-python",
   "name": "python",
   "nbconvert_exporter": "python",
   "pygments_lexer": "ipython3",
   "version": "3.8.8"
  },
  "orig_nbformat": 4
 },
 "nbformat": 4,
 "nbformat_minor": 2
}
